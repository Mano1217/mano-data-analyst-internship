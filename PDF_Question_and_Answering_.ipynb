{
  "nbformat": 4,
  "nbformat_minor": 0,
  "metadata": {
    "colab": {
      "provenance": []
    },
    "kernelspec": {
      "name": "python3",
      "display_name": "Python 3"
    },
    "language_info": {
      "name": "python"
    }
  },
  "cells": [
    {
      "cell_type": "code",
      "source": [
        "pip install PyPDF2"
      ],
      "metadata": {
        "colab": {
          "base_uri": "https://localhost:8080/"
        },
        "id": "RZVEFi8FcQPz",
        "outputId": "8c37fb44-6e51-4912-89f4-c5f4e283c152"
      },
      "execution_count": null,
      "outputs": [
        {
          "output_type": "stream",
          "name": "stdout",
          "text": [
            "Collecting PyPDF2\n",
            "  Downloading pypdf2-3.0.1-py3-none-any.whl.metadata (6.8 kB)\n",
            "Downloading pypdf2-3.0.1-py3-none-any.whl (232 kB)\n",
            "\u001b[?25l   \u001b[90m━━━━━━━━━━━━━━━━━━━━━━━━━━━━━━━━━━━━━━━━\u001b[0m \u001b[32m0.0/232.6 kB\u001b[0m \u001b[31m?\u001b[0m eta \u001b[36m-:--:--\u001b[0m\r\u001b[2K   \u001b[91m━━━━━━━━━━━━━━━━━━━━━━━━━━━━━━━━━━━━━━\u001b[0m\u001b[91m╸\u001b[0m\u001b[90m━\u001b[0m \u001b[32m225.3/232.6 kB\u001b[0m \u001b[31m7.2 MB/s\u001b[0m eta \u001b[36m0:00:01\u001b[0m\r\u001b[2K   \u001b[90m━━━━━━━━━━━━━━━━━━━━━━━━━━━━━━━━━━━━━━━━\u001b[0m \u001b[32m232.6/232.6 kB\u001b[0m \u001b[31m5.7 MB/s\u001b[0m eta \u001b[36m0:00:00\u001b[0m\n",
            "\u001b[?25hInstalling collected packages: PyPDF2\n",
            "Successfully installed PyPDF2-3.0.1\n"
          ]
        }
      ]
    },
    {
      "cell_type": "code",
      "source": [
        "import PyPDF2\n",
        "from transformers import pipeline\n",
        "\n",
        "# Read PDF file\n",
        "with open(r'/content/EIFFEL TOWER (2).pdf', 'rb') as f:\n",
        "    pdf = PyPDF2.PdfReader(f)\n",
        "    text = ''\n",
        "    for page in pdf.pages:\n",
        "        text += page.extract_text()\n",
        "\n",
        "# Create a question-answering pipeline\n",
        "\n",
        "qa_pipeline = pipeline(\n",
        "    'question-answering',\n",
        "    model='deepset/roberta-base-squad2',\n",
        "    tokenizer='deepset/roberta-base-squad2'\n",
        ")\n",
        "\n",
        "# Ask a question\n",
        "question = 'What is the main topic of the PDF?'\n",
        "\n",
        "answer = qa_pipeline(question=question, context=text)\n",
        "while True:\n",
        "    question = input(\"Ask a question (or type 'exit'): \")\n",
        "    if question.lower() == 'exit':\n",
        "        break\n",
        "    answer = qa_pipeline(question=question, context=text)\n",
        "    print(f\"\\nAnswer: {answer['answer']} (confidence: {answer['score']:.2f})\\n\")\n",
        "\n",
        "print(answer)\n",
        "\n",
        "\n"
      ],
      "metadata": {
        "colab": {
          "base_uri": "https://localhost:8080/"
        },
        "id": "8CZCnU0BnB3t",
        "outputId": "f52a65bb-f280-476e-a70c-1d4f24c14941"
      },
      "execution_count": null,
      "outputs": [
        {
          "output_type": "stream",
          "name": "stderr",
          "text": [
            "Device set to use cpu\n"
          ]
        },
        {
          "output_type": "stream",
          "name": "stdout",
          "text": [
            "Ask a question (or type 'exit'): how many light bulbs used\n",
            "\n",
            "Answer: 20,000 (confidence: 0.79)\n",
            "\n",
            "Ask a question (or type 'exit'): how many visitors visited \n",
            "\n",
            "Answer: Over 300 million (confidence: 0.40)\n",
            "\n",
            "Ask a question (or type 'exit'): give the stair count\n",
            "\n",
            "Answer: 1,665 steps (confidence: 0.31)\n",
            "\n",
            "Ask a question (or type 'exit'): special displays\n",
            "\n",
            "Answer: \n",
            " (confidence: 0.00)\n",
            "\n",
            "Ask a question (or type 'exit'): Guy de Maupassant called it as\n",
            "\n",
            "Answer: La Tour Eiffel (confidence: 0.00)\n",
            "\n",
            "Ask a question (or type 'exit'): give one scientific use\n",
            "\n",
            "Answer: Laboratory on Top (confidence: 0.02)\n",
            "\n",
            "Ask a question (or type 'exit'): it is inspired by\n",
            "\n",
            "Answer: the French Revolution (confidence: 0.10)\n",
            "\n",
            "Ask a question (or type 'exit'): which year it listed as UNESCO world heritage\n",
            "\n",
            "Answer: 1991 (confidence: 0.95)\n",
            "\n",
            "Ask a question (or type 'exit'): How many step to the top?\n",
            "\n",
            "Answer: 1,665 (confidence: 0.55)\n",
            "\n",
            "Ask a question (or type 'exit'): exit\n",
            "{'score': 0.5504424571990967, 'start': 4609, 'end': 4614, 'answer': '1,665'}\n"
          ]
        }
      ]
    }
  ]
}